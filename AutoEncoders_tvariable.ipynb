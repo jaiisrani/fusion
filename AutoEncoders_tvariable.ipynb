{
  "nbformat": 4,
  "nbformat_minor": 0,
  "metadata": {
    "colab": {
      "provenance": []
    },
    "kernelspec": {
      "name": "python3",
      "display_name": "Python 3"
    },
    "language_info": {
      "name": "python"
    }
  },
  "cells": [
    {
      "cell_type": "code",
      "source": [
        "pwd"
      ],
      "metadata": {
        "colab": {
          "base_uri": "https://localhost:8080/",
          "height": 34
        },
        "id": "lOLntqr6I3kB",
        "outputId": "1097f389-048b-40da-acf3-f653256feef0"
      },
      "execution_count": null,
      "outputs": [
        {
          "output_type": "execute_result",
          "data": {
            "text/plain": [
              "'/content'"
            ],
            "application/vnd.google.colaboratory.intrinsic+json": {
              "type": "string"
            }
          },
          "metadata": {},
          "execution_count": 1
        }
      ]
    },
    {
      "cell_type": "code",
      "source": [
        "cd ./drive/MyDrive/fusion_project"
      ],
      "metadata": {
        "colab": {
          "base_uri": "https://localhost:8080/"
        },
        "id": "iCR3aCpLaV_e",
        "outputId": "b047ba68-29ed-4377-b36f-bda12fd77c2a"
      },
      "execution_count": null,
      "outputs": [
        {
          "output_type": "stream",
          "name": "stdout",
          "text": [
            "/content/drive/MyDrive/fusion_project\n"
          ]
        }
      ]
    },
    {
      "cell_type": "code",
      "source": [
        "ls"
      ],
      "metadata": {
        "colab": {
          "base_uri": "https://localhost:8080/"
        },
        "id": "gU2NIEILaV9m",
        "outputId": "1897aedd-1c92-4341-e8cb-3ae35f07841d"
      },
      "execution_count": null,
      "outputs": [
        {
          "output_type": "stream",
          "name": "stdout",
          "text": [
            "training_data_and_labels.mat  trajectories_bottle_cartesian.mat\n"
          ]
        }
      ]
    },
    {
      "cell_type": "code",
      "source": [
        "import numpy as np"
      ],
      "metadata": {
        "id": "7Pi4tZyfntIj"
      },
      "execution_count": null,
      "outputs": []
    },
    {
      "cell_type": "code",
      "source": [
        "import scipy.io\n",
        "mat = scipy.io.loadmat('training_data_and_labels.mat') # This is in dictionary format"
      ],
      "metadata": {
        "id": "0aY4IOn-aV7Y"
      },
      "execution_count": null,
      "outputs": []
    },
    {
      "cell_type": "code",
      "source": [
        "mat"
      ],
      "metadata": {
        "id": "0OfU10R1JL6V"
      },
      "execution_count": null,
      "outputs": []
    },
    {
      "cell_type": "code",
      "source": [
        "print(mat[\"training_data\"].shape)\n",
        "print(mat[\"training_labels\"].shape)"
      ],
      "metadata": {
        "colab": {
          "base_uri": "https://localhost:8080/"
        },
        "id": "5ADOg9HZaV4s",
        "outputId": "97d9ec33-1051-4e54-c1b1-e15803a062e4"
      },
      "execution_count": null,
      "outputs": [
        {
          "output_type": "stream",
          "name": "stdout",
          "text": [
            "(10000, 6)\n",
            "(10000, 6)\n"
          ]
        }
      ]
    },
    {
      "cell_type": "code",
      "source": [
        "training_data = mat[\"training_data\"]\n",
        "training_labels = mat[\"training_labels\"]"
      ],
      "metadata": {
        "id": "6U7DFwUflHS7"
      },
      "execution_count": null,
      "outputs": []
    },
    {
      "cell_type": "code",
      "source": [
        "print(np.max(training_data))\n",
        "print(np.max(training_labels))"
      ],
      "metadata": {
        "colab": {
          "base_uri": "https://localhost:8080/"
        },
        "id": "pYfBcfE7VZ1H",
        "outputId": "a1d76738-0084-45e5-bc9f-ed7907e46067"
      },
      "execution_count": null,
      "outputs": [
        {
          "output_type": "stream",
          "name": "stdout",
          "text": [
            "1.0\n",
            "18.53912743813317\n"
          ]
        }
      ]
    },
    {
      "cell_type": "code",
      "source": [
        "print(training_data)"
      ],
      "metadata": {
        "id": "q5ojZRb8lHRJ"
      },
      "execution_count": null,
      "outputs": []
    },
    {
      "cell_type": "code",
      "source": [
        "print(training_labels)"
      ],
      "metadata": {
        "id": "QztSOMpSaV1n"
      },
      "execution_count": null,
      "outputs": []
    },
    {
      "cell_type": "code",
      "source": [],
      "metadata": {
        "id": "rswyEDBulN1d"
      },
      "execution_count": null,
      "outputs": []
    },
    {
      "cell_type": "code",
      "source": [],
      "metadata": {
        "id": "Q22tdUCplNt2"
      },
      "execution_count": null,
      "outputs": []
    },
    {
      "cell_type": "code",
      "source": [
        "import keras\n",
        "from keras import layers"
      ],
      "metadata": {
        "id": "Jr_2o-5kTsVV"
      },
      "execution_count": null,
      "outputs": []
    },
    {
      "cell_type": "code",
      "source": [
        "encoding_dim = 5\n",
        "\n",
        "input_layer = keras.Input(shape=(6, ))\n",
        "encoded = layers.Dense(encoding_dim, activation='relu')(input_layer)\n",
        "decoded = layers.Dense(6, activation='sigmoid')(encoded)\n",
        "\n",
        "autoencoder = keras.Model(input_layer, decoded)\n",
        "\n",
        "autoencoder.compile(optimizer='sgd', loss='mean_squared_error') # optimizer is what is used to update weights in a NN\n",
        "\n",
        "autoencoder.fit(training_data, training_labels,\n",
        "                epochs=3000)"
      ],
      "metadata": {
        "colab": {
          "base_uri": "https://localhost:8080/",
          "height": 1000
        },
        "id": "nbCR3Nf_WDRe",
        "outputId": "49da4bfb-0bef-41a4-a743-26c1070d3928"
      },
      "execution_count": null,
      "outputs": [
        {
          "output_type": "stream",
          "name": "stdout",
          "text": [
            "Epoch 1/3000\n",
            "313/313 [==============================] - 1s 2ms/step - loss: 0.6300\n",
            "Epoch 2/3000\n",
            "313/313 [==============================] - 1s 2ms/step - loss: 0.5932\n",
            "Epoch 3/3000\n",
            "313/313 [==============================] - 1s 2ms/step - loss: 0.5598\n",
            "Epoch 4/3000\n",
            "313/313 [==============================] - 1s 3ms/step - loss: 0.5319\n",
            "Epoch 5/3000\n",
            "313/313 [==============================] - 1s 3ms/step - loss: 0.5112\n",
            "Epoch 6/3000\n",
            "313/313 [==============================] - 1s 3ms/step - loss: 0.4975\n",
            "Epoch 7/3000\n",
            "313/313 [==============================] - 2s 5ms/step - loss: 0.4889\n",
            "Epoch 8/3000\n",
            "313/313 [==============================] - 2s 7ms/step - loss: 0.4834\n",
            "Epoch 9/3000\n",
            "313/313 [==============================] - 1s 4ms/step - loss: 0.4798\n",
            "Epoch 10/3000\n",
            "313/313 [==============================] - 0s 2ms/step - loss: 0.4773\n",
            "Epoch 11/3000\n",
            "313/313 [==============================] - 1s 2ms/step - loss: 0.4754\n",
            "Epoch 12/3000\n",
            "313/313 [==============================] - 1s 2ms/step - loss: 0.4741\n",
            "Epoch 13/3000\n",
            "313/313 [==============================] - 1s 2ms/step - loss: 0.4730\n",
            "Epoch 14/3000\n",
            "313/313 [==============================] - 1s 2ms/step - loss: 0.4722\n",
            "Epoch 15/3000\n",
            "313/313 [==============================] - 1s 2ms/step - loss: 0.4714\n",
            "Epoch 16/3000\n",
            "313/313 [==============================] - 1s 2ms/step - loss: 0.4709\n",
            "Epoch 17/3000\n",
            "313/313 [==============================] - 1s 2ms/step - loss: 0.4703\n",
            "Epoch 18/3000\n",
            "313/313 [==============================] - 0s 2ms/step - loss: 0.4699\n",
            "Epoch 19/3000\n",
            "313/313 [==============================] - 1s 2ms/step - loss: 0.4695\n",
            "Epoch 20/3000\n",
            "313/313 [==============================] - 1s 2ms/step - loss: 0.4691\n",
            "Epoch 21/3000\n",
            "313/313 [==============================] - 0s 2ms/step - loss: 0.4688\n",
            "Epoch 22/3000\n",
            "313/313 [==============================] - 0s 2ms/step - loss: 0.4685\n",
            "Epoch 23/3000\n",
            "313/313 [==============================] - 1s 2ms/step - loss: 0.4682\n",
            "Epoch 24/3000\n",
            "313/313 [==============================] - 1s 2ms/step - loss: 0.4680\n",
            "Epoch 25/3000\n",
            "313/313 [==============================] - 0s 2ms/step - loss: 0.4677\n",
            "Epoch 26/3000\n",
            "313/313 [==============================] - 0s 2ms/step - loss: 0.4675\n",
            "Epoch 27/3000\n",
            "313/313 [==============================] - 1s 2ms/step - loss: 0.4672\n",
            "Epoch 28/3000\n",
            "313/313 [==============================] - 1s 2ms/step - loss: 0.4670\n",
            "Epoch 29/3000\n",
            "313/313 [==============================] - 1s 2ms/step - loss: 0.4668\n",
            "Epoch 30/3000\n",
            "313/313 [==============================] - 1s 2ms/step - loss: 0.4666\n",
            "Epoch 31/3000\n",
            "313/313 [==============================] - 1s 2ms/step - loss: 0.4664\n",
            "Epoch 32/3000\n",
            "313/313 [==============================] - 1s 2ms/step - loss: 0.4662\n",
            "Epoch 33/3000\n",
            "313/313 [==============================] - 1s 2ms/step - loss: 0.4660\n",
            "Epoch 34/3000\n",
            "313/313 [==============================] - 1s 2ms/step - loss: 0.4658\n",
            "Epoch 35/3000\n",
            "313/313 [==============================] - 1s 2ms/step - loss: 0.4656\n",
            "Epoch 36/3000\n",
            "313/313 [==============================] - 1s 2ms/step - loss: 0.4654\n",
            "Epoch 37/3000\n",
            "313/313 [==============================] - 1s 2ms/step - loss: 0.4653\n",
            "Epoch 38/3000\n",
            "313/313 [==============================] - 0s 2ms/step - loss: 0.4651\n",
            "Epoch 39/3000\n",
            "313/313 [==============================] - 0s 2ms/step - loss: 0.4649\n",
            "Epoch 40/3000\n",
            "313/313 [==============================] - 1s 2ms/step - loss: 0.4647\n",
            "Epoch 41/3000\n",
            "313/313 [==============================] - 1s 2ms/step - loss: 0.4645\n",
            "Epoch 42/3000\n",
            "313/313 [==============================] - 1s 2ms/step - loss: 0.4644\n",
            "Epoch 43/3000\n",
            "313/313 [==============================] - 1s 2ms/step - loss: 0.4642\n",
            "Epoch 44/3000\n",
            "313/313 [==============================] - 1s 2ms/step - loss: 0.4640\n",
            "Epoch 45/3000\n",
            "313/313 [==============================] - 1s 2ms/step - loss: 0.4639\n",
            "Epoch 46/3000\n",
            "313/313 [==============================] - 1s 2ms/step - loss: 0.4637\n",
            "Epoch 47/3000\n",
            "313/313 [==============================] - 1s 2ms/step - loss: 0.4635\n",
            "Epoch 48/3000\n",
            "313/313 [==============================] - 1s 2ms/step - loss: 0.4634\n",
            "Epoch 49/3000\n",
            "313/313 [==============================] - 1s 2ms/step - loss: 0.4632\n",
            "Epoch 50/3000\n",
            "313/313 [==============================] - 1s 2ms/step - loss: 0.4630\n",
            "Epoch 51/3000\n",
            "313/313 [==============================] - 1s 2ms/step - loss: 0.4629\n",
            "Epoch 52/3000\n",
            "313/313 [==============================] - 1s 2ms/step - loss: 0.4627\n",
            "Epoch 53/3000\n",
            "313/313 [==============================] - 1s 2ms/step - loss: 0.4625\n",
            "Epoch 54/3000\n",
            "313/313 [==============================] - 1s 2ms/step - loss: 0.4624\n",
            "Epoch 55/3000\n",
            "313/313 [==============================] - 1s 2ms/step - loss: 0.4622\n",
            "Epoch 56/3000\n",
            "313/313 [==============================] - 1s 2ms/step - loss: 0.4621\n",
            "Epoch 57/3000\n",
            "313/313 [==============================] - 1s 2ms/step - loss: 0.4619\n",
            "Epoch 58/3000\n",
            "313/313 [==============================] - 1s 2ms/step - loss: 0.4618\n",
            "Epoch 59/3000\n",
            "313/313 [==============================] - 1s 2ms/step - loss: 0.4616\n",
            "Epoch 60/3000\n",
            "313/313 [==============================] - 1s 2ms/step - loss: 0.4615\n",
            "Epoch 61/3000\n",
            "313/313 [==============================] - 1s 2ms/step - loss: 0.4613\n",
            "Epoch 62/3000\n",
            "313/313 [==============================] - 1s 2ms/step - loss: 0.4612\n",
            "Epoch 63/3000\n",
            "313/313 [==============================] - 1s 2ms/step - loss: 0.4611\n",
            "Epoch 64/3000\n",
            "313/313 [==============================] - 1s 2ms/step - loss: 0.4609\n",
            "Epoch 65/3000\n",
            "313/313 [==============================] - 1s 2ms/step - loss: 0.4608\n",
            "Epoch 66/3000\n",
            "313/313 [==============================] - 1s 2ms/step - loss: 0.4607\n",
            "Epoch 67/3000\n",
            "313/313 [==============================] - 1s 2ms/step - loss: 0.4605\n",
            "Epoch 68/3000\n",
            "313/313 [==============================] - 0s 2ms/step - loss: 0.4604\n",
            "Epoch 69/3000\n",
            "313/313 [==============================] - 1s 2ms/step - loss: 0.4603\n",
            "Epoch 70/3000\n",
            "313/313 [==============================] - 0s 2ms/step - loss: 0.4602\n",
            "Epoch 71/3000\n",
            "313/313 [==============================] - 0s 2ms/step - loss: 0.4600\n",
            "Epoch 72/3000\n",
            "313/313 [==============================] - 1s 2ms/step - loss: 0.4599\n",
            "Epoch 73/3000\n",
            "313/313 [==============================] - 1s 2ms/step - loss: 0.4598\n",
            "Epoch 74/3000\n",
            "313/313 [==============================] - 1s 2ms/step - loss: 0.4597\n",
            "Epoch 75/3000\n",
            "313/313 [==============================] - 1s 2ms/step - loss: 0.4596\n",
            "Epoch 76/3000\n",
            "313/313 [==============================] - 1s 2ms/step - loss: 0.4595\n",
            "Epoch 77/3000\n",
            "313/313 [==============================] - 1s 2ms/step - loss: 0.4593\n",
            "Epoch 78/3000\n",
            "313/313 [==============================] - 1s 2ms/step - loss: 0.4592\n",
            "Epoch 79/3000\n",
            "313/313 [==============================] - 1s 2ms/step - loss: 0.4591\n",
            "Epoch 80/3000\n",
            "313/313 [==============================] - 1s 2ms/step - loss: 0.4590\n",
            "Epoch 81/3000\n",
            "313/313 [==============================] - 1s 2ms/step - loss: 0.4589\n",
            "Epoch 82/3000\n",
            "313/313 [==============================] - 1s 2ms/step - loss: 0.4588\n",
            "Epoch 83/3000\n",
            "313/313 [==============================] - 1s 2ms/step - loss: 0.4588\n",
            "Epoch 84/3000\n",
            "313/313 [==============================] - 1s 2ms/step - loss: 0.4587\n",
            "Epoch 85/3000\n",
            "313/313 [==============================] - 1s 2ms/step - loss: 0.4586\n",
            "Epoch 86/3000\n",
            "313/313 [==============================] - 1s 2ms/step - loss: 0.4585\n",
            "Epoch 87/3000\n",
            "313/313 [==============================] - 0s 2ms/step - loss: 0.4584\n",
            "Epoch 88/3000\n",
            "313/313 [==============================] - 1s 2ms/step - loss: 0.4583\n",
            "Epoch 89/3000\n",
            "313/313 [==============================] - 0s 2ms/step - loss: 0.4582\n",
            "Epoch 90/3000\n",
            "313/313 [==============================] - 1s 2ms/step - loss: 0.4582\n",
            "Epoch 91/3000\n",
            "313/313 [==============================] - 1s 2ms/step - loss: 0.4581\n",
            "Epoch 92/3000\n",
            "313/313 [==============================] - 1s 2ms/step - loss: 0.4580\n",
            "Epoch 93/3000\n",
            "313/313 [==============================] - 1s 2ms/step - loss: 0.4579\n",
            "Epoch 94/3000\n",
            "313/313 [==============================] - 1s 2ms/step - loss: 0.4579\n",
            "Epoch 95/3000\n",
            "313/313 [==============================] - 1s 2ms/step - loss: 0.4578\n",
            "Epoch 96/3000\n",
            "313/313 [==============================] - 1s 2ms/step - loss: 0.4577\n",
            "Epoch 97/3000\n",
            "313/313 [==============================] - 1s 2ms/step - loss: 0.4577\n",
            "Epoch 98/3000\n",
            "313/313 [==============================] - 1s 2ms/step - loss: 0.4576\n",
            "Epoch 99/3000\n",
            "313/313 [==============================] - 1s 2ms/step - loss: 0.4575\n",
            "Epoch 100/3000\n",
            "313/313 [==============================] - 1s 2ms/step - loss: 0.4575\n",
            "Epoch 101/3000\n",
            "313/313 [==============================] - 1s 2ms/step - loss: 0.4574\n",
            "Epoch 102/3000\n",
            "313/313 [==============================] - 1s 2ms/step - loss: 0.4574\n",
            "Epoch 103/3000\n",
            "313/313 [==============================] - 1s 2ms/step - loss: 0.4573\n",
            "Epoch 104/3000\n",
            "313/313 [==============================] - 0s 2ms/step - loss: 0.4573\n",
            "Epoch 105/3000\n",
            "313/313 [==============================] - 1s 2ms/step - loss: 0.4572\n",
            "Epoch 106/3000\n",
            "313/313 [==============================] - 1s 2ms/step - loss: 0.4572\n",
            "Epoch 107/3000\n",
            "313/313 [==============================] - 1s 2ms/step - loss: 0.4571\n",
            "Epoch 108/3000\n",
            "313/313 [==============================] - 1s 2ms/step - loss: 0.4571\n",
            "Epoch 109/3000\n",
            "313/313 [==============================] - 1s 2ms/step - loss: 0.4570\n",
            "Epoch 110/3000\n",
            "313/313 [==============================] - 1s 2ms/step - loss: 0.4570\n",
            "Epoch 111/3000\n",
            "313/313 [==============================] - 1s 2ms/step - loss: 0.4569\n",
            "Epoch 112/3000\n",
            "313/313 [==============================] - 1s 2ms/step - loss: 0.4569\n",
            "Epoch 113/3000\n",
            "313/313 [==============================] - 1s 2ms/step - loss: 0.4568\n",
            "Epoch 114/3000\n",
            "313/313 [==============================] - 0s 2ms/step - loss: 0.4568\n",
            "Epoch 115/3000\n",
            "313/313 [==============================] - 1s 2ms/step - loss: 0.4568\n",
            "Epoch 116/3000\n",
            "313/313 [==============================] - 1s 2ms/step - loss: 0.4567\n",
            "Epoch 117/3000\n",
            "313/313 [==============================] - 1s 2ms/step - loss: 0.4567\n",
            "Epoch 118/3000\n",
            "313/313 [==============================] - 1s 2ms/step - loss: 0.4567\n",
            "Epoch 119/3000\n",
            "313/313 [==============================] - 0s 2ms/step - loss: 0.4566\n",
            "Epoch 120/3000\n",
            "313/313 [==============================] - 0s 2ms/step - loss: 0.4566\n",
            "Epoch 121/3000\n",
            "313/313 [==============================] - 1s 2ms/step - loss: 0.4566\n",
            "Epoch 122/3000\n",
            "313/313 [==============================] - 1s 2ms/step - loss: 0.4565\n",
            "Epoch 123/3000\n",
            "313/313 [==============================] - 1s 2ms/step - loss: 0.4565\n",
            "Epoch 124/3000\n",
            "313/313 [==============================] - 1s 2ms/step - loss: 0.4565\n",
            "Epoch 125/3000\n",
            "313/313 [==============================] - 1s 2ms/step - loss: 0.4564\n",
            "Epoch 126/3000\n",
            "313/313 [==============================] - 1s 2ms/step - loss: 0.4564\n",
            "Epoch 127/3000\n",
            "313/313 [==============================] - 1s 2ms/step - loss: 0.4564\n",
            "Epoch 128/3000\n",
            "313/313 [==============================] - 1s 2ms/step - loss: 0.4563\n",
            "Epoch 129/3000\n",
            "313/313 [==============================] - 1s 2ms/step - loss: 0.4563\n",
            "Epoch 130/3000\n",
            "313/313 [==============================] - 1s 2ms/step - loss: 0.4563\n",
            "Epoch 131/3000\n",
            "313/313 [==============================] - 1s 2ms/step - loss: 0.4563\n",
            "Epoch 132/3000\n",
            "313/313 [==============================] - 1s 2ms/step - loss: 0.4562\n",
            "Epoch 133/3000\n",
            "313/313 [==============================] - 1s 3ms/step - loss: 0.4562\n",
            "Epoch 134/3000\n",
            "313/313 [==============================] - 1s 2ms/step - loss: 0.4562\n",
            "Epoch 135/3000\n",
            "313/313 [==============================] - 1s 2ms/step - loss: 0.4562\n",
            "Epoch 136/3000\n",
            "313/313 [==============================] - 1s 2ms/step - loss: 0.4561\n",
            "Epoch 137/3000\n",
            "313/313 [==============================] - 1s 2ms/step - loss: 0.4561\n",
            "Epoch 138/3000\n",
            "313/313 [==============================] - 1s 2ms/step - loss: 0.4561\n",
            "Epoch 139/3000\n",
            "313/313 [==============================] - 1s 2ms/step - loss: 0.4561\n",
            "Epoch 140/3000\n",
            "313/313 [==============================] - 1s 2ms/step - loss: 0.4561\n",
            "Epoch 141/3000\n",
            "313/313 [==============================] - 1s 2ms/step - loss: 0.4560\n",
            "Epoch 142/3000\n",
            "313/313 [==============================] - 1s 2ms/step - loss: 0.4560\n",
            "Epoch 143/3000\n",
            "313/313 [==============================] - 1s 2ms/step - loss: 0.4560\n",
            "Epoch 144/3000\n",
            "313/313 [==============================] - 1s 2ms/step - loss: 0.4560\n",
            "Epoch 145/3000\n",
            "313/313 [==============================] - 1s 2ms/step - loss: 0.4560\n",
            "Epoch 146/3000\n",
            "313/313 [==============================] - 1s 2ms/step - loss: 0.4559\n",
            "Epoch 147/3000\n",
            "313/313 [==============================] - 1s 2ms/step - loss: 0.4559\n",
            "Epoch 148/3000\n",
            "313/313 [==============================] - 1s 2ms/step - loss: 0.4559\n",
            "Epoch 149/3000\n",
            "313/313 [==============================] - 1s 2ms/step - loss: 0.4559\n",
            "Epoch 150/3000\n",
            "313/313 [==============================] - 1s 2ms/step - loss: 0.4559\n",
            "Epoch 151/3000\n",
            "313/313 [==============================] - 1s 2ms/step - loss: 0.4559\n",
            "Epoch 152/3000\n",
            "313/313 [==============================] - 1s 2ms/step - loss: 0.4558\n",
            "Epoch 153/3000\n",
            "313/313 [==============================] - 1s 2ms/step - loss: 0.4558\n",
            "Epoch 154/3000\n",
            "313/313 [==============================] - 1s 2ms/step - loss: 0.4558\n",
            "Epoch 155/3000\n",
            "313/313 [==============================] - 1s 2ms/step - loss: 0.4558\n",
            "Epoch 156/3000\n",
            "313/313 [==============================] - 1s 2ms/step - loss: 0.4558\n",
            "Epoch 157/3000\n",
            "313/313 [==============================] - 1s 2ms/step - loss: 0.4558\n",
            "Epoch 158/3000\n",
            "313/313 [==============================] - 1s 2ms/step - loss: 0.4557\n",
            "Epoch 159/3000\n",
            "313/313 [==============================] - 1s 2ms/step - loss: 0.4557\n",
            "Epoch 160/3000\n",
            "313/313 [==============================] - 1s 4ms/step - loss: 0.4557\n",
            "Epoch 161/3000\n",
            "313/313 [==============================] - 1s 2ms/step - loss: 0.4557\n",
            "Epoch 162/3000\n",
            "313/313 [==============================] - 1s 2ms/step - loss: 0.4557\n",
            "Epoch 163/3000\n",
            "313/313 [==============================] - 1s 2ms/step - loss: 0.4557\n",
            "Epoch 164/3000\n",
            "313/313 [==============================] - 1s 2ms/step - loss: 0.4557\n",
            "Epoch 165/3000\n",
            "313/313 [==============================] - 1s 2ms/step - loss: 0.4556\n",
            "Epoch 166/3000\n",
            "313/313 [==============================] - 1s 2ms/step - loss: 0.4556\n",
            "Epoch 167/3000\n",
            "313/313 [==============================] - 1s 2ms/step - loss: 0.4556\n",
            "Epoch 168/3000\n",
            "313/313 [==============================] - 1s 2ms/step - loss: 0.4556\n",
            "Epoch 169/3000\n",
            "313/313 [==============================] - 1s 2ms/step - loss: 0.4556\n",
            "Epoch 170/3000\n",
            "313/313 [==============================] - 1s 2ms/step - loss: 0.4556\n",
            "Epoch 171/3000\n",
            "313/313 [==============================] - 1s 3ms/step - loss: 0.4556\n",
            "Epoch 172/3000\n",
            "313/313 [==============================] - 1s 3ms/step - loss: 0.4556\n",
            "Epoch 173/3000\n",
            "313/313 [==============================] - 1s 2ms/step - loss: 0.4555\n",
            "Epoch 174/3000\n",
            "313/313 [==============================] - 1s 3ms/step - loss: 0.4555\n",
            "Epoch 175/3000\n",
            "313/313 [==============================] - 1s 2ms/step - loss: 0.4555\n",
            "Epoch 176/3000\n",
            "313/313 [==============================] - 1s 2ms/step - loss: 0.4555\n",
            "Epoch 177/3000\n",
            "313/313 [==============================] - 1s 2ms/step - loss: 0.4555\n",
            "Epoch 178/3000\n",
            "313/313 [==============================] - 1s 2ms/step - loss: 0.4555\n",
            "Epoch 179/3000\n",
            "313/313 [==============================] - 1s 2ms/step - loss: 0.4555\n",
            "Epoch 180/3000\n",
            "313/313 [==============================] - 1s 2ms/step - loss: 0.4555\n",
            "Epoch 181/3000\n",
            "313/313 [==============================] - 1s 2ms/step - loss: 0.4554\n",
            "Epoch 182/3000\n",
            "313/313 [==============================] - 1s 2ms/step - loss: 0.4554\n",
            "Epoch 183/3000\n",
            "313/313 [==============================] - 1s 2ms/step - loss: 0.4554\n",
            "Epoch 184/3000\n",
            "313/313 [==============================] - 1s 2ms/step - loss: 0.4554\n",
            "Epoch 185/3000\n",
            "313/313 [==============================] - 1s 2ms/step - loss: 0.4554\n",
            "Epoch 186/3000\n",
            "313/313 [==============================] - 0s 2ms/step - loss: 0.4554\n",
            "Epoch 187/3000\n",
            "313/313 [==============================] - 1s 2ms/step - loss: 0.4554\n",
            "Epoch 188/3000\n",
            "313/313 [==============================] - 1s 2ms/step - loss: 0.4554\n",
            "Epoch 189/3000\n",
            "313/313 [==============================] - 1s 2ms/step - loss: 0.4554\n",
            "Epoch 190/3000\n",
            "313/313 [==============================] - 1s 2ms/step - loss: 0.4553\n",
            "Epoch 191/3000\n",
            "313/313 [==============================] - 1s 2ms/step - loss: 0.4553\n",
            "Epoch 192/3000\n",
            "313/313 [==============================] - 1s 2ms/step - loss: 0.4553\n",
            "Epoch 193/3000\n",
            "313/313 [==============================] - 1s 2ms/step - loss: 0.4553\n",
            "Epoch 194/3000\n",
            "313/313 [==============================] - 1s 2ms/step - loss: 0.4553\n",
            "Epoch 195/3000\n",
            "313/313 [==============================] - 1s 2ms/step - loss: 0.4553\n",
            "Epoch 196/3000\n",
            "313/313 [==============================] - 1s 2ms/step - loss: 0.4553\n",
            "Epoch 197/3000\n",
            "313/313 [==============================] - 1s 2ms/step - loss: 0.4553\n",
            "Epoch 198/3000\n",
            "313/313 [==============================] - 1s 2ms/step - loss: 0.4552\n",
            "Epoch 199/3000\n",
            "313/313 [==============================] - 1s 2ms/step - loss: 0.4552\n",
            "Epoch 200/3000\n",
            "313/313 [==============================] - 0s 2ms/step - loss: 0.4552\n",
            "Epoch 201/3000\n",
            "313/313 [==============================] - 1s 2ms/step - loss: 0.4552\n",
            "Epoch 202/3000\n",
            "313/313 [==============================] - 1s 2ms/step - loss: 0.4552\n",
            "Epoch 203/3000\n",
            "313/313 [==============================] - 1s 2ms/step - loss: 0.4552\n",
            "Epoch 204/3000\n",
            "313/313 [==============================] - 1s 2ms/step - loss: 0.4552\n",
            "Epoch 205/3000\n",
            "313/313 [==============================] - 1s 2ms/step - loss: 0.4552\n",
            "Epoch 206/3000\n",
            "313/313 [==============================] - 1s 2ms/step - loss: 0.4552\n",
            "Epoch 207/3000\n",
            "313/313 [==============================] - 1s 2ms/step - loss: 0.4551\n",
            "Epoch 208/3000\n",
            "313/313 [==============================] - 1s 2ms/step - loss: 0.4551\n",
            "Epoch 209/3000\n",
            "313/313 [==============================] - 1s 2ms/step - loss: 0.4551\n",
            "Epoch 210/3000\n",
            "313/313 [==============================] - 1s 2ms/step - loss: 0.4551\n",
            "Epoch 211/3000\n",
            "313/313 [==============================] - 1s 2ms/step - loss: 0.4551\n",
            "Epoch 212/3000\n",
            "313/313 [==============================] - 1s 2ms/step - loss: 0.4551\n",
            "Epoch 213/3000\n",
            "313/313 [==============================] - 1s 2ms/step - loss: 0.4551\n",
            "Epoch 214/3000\n",
            " 60/313 [====>.........................] - ETA: 0s - loss: 0.5001"
          ]
        },
        {
          "output_type": "error",
          "ename": "KeyboardInterrupt",
          "evalue": "ignored",
          "traceback": [
            "\u001b[0;31m---------------------------------------------------------------------------\u001b[0m",
            "\u001b[0;31mKeyboardInterrupt\u001b[0m                         Traceback (most recent call last)",
            "\u001b[0;32m<ipython-input-14-bc538a36d603>\u001b[0m in \u001b[0;36m<module>\u001b[0;34m\u001b[0m\n\u001b[1;32m      9\u001b[0m \u001b[0mautoencoder\u001b[0m\u001b[0;34m.\u001b[0m\u001b[0mcompile\u001b[0m\u001b[0;34m(\u001b[0m\u001b[0moptimizer\u001b[0m\u001b[0;34m=\u001b[0m\u001b[0;34m'sgd'\u001b[0m\u001b[0;34m,\u001b[0m \u001b[0mloss\u001b[0m\u001b[0;34m=\u001b[0m\u001b[0;34m'mean_squared_error'\u001b[0m\u001b[0;34m)\u001b[0m \u001b[0;31m# optimizer is what is used to update weights in a NN\u001b[0m\u001b[0;34m\u001b[0m\u001b[0;34m\u001b[0m\u001b[0m\n\u001b[1;32m     10\u001b[0m \u001b[0;34m\u001b[0m\u001b[0m\n\u001b[0;32m---> 11\u001b[0;31m autoencoder.fit(training_data, training_labels,\n\u001b[0m\u001b[1;32m     12\u001b[0m                 epochs=3000)\n",
            "\u001b[0;32m/usr/local/lib/python3.9/dist-packages/keras/utils/traceback_utils.py\u001b[0m in \u001b[0;36merror_handler\u001b[0;34m(*args, **kwargs)\u001b[0m\n\u001b[1;32m     63\u001b[0m         \u001b[0mfiltered_tb\u001b[0m \u001b[0;34m=\u001b[0m \u001b[0;32mNone\u001b[0m\u001b[0;34m\u001b[0m\u001b[0;34m\u001b[0m\u001b[0m\n\u001b[1;32m     64\u001b[0m         \u001b[0;32mtry\u001b[0m\u001b[0;34m:\u001b[0m\u001b[0;34m\u001b[0m\u001b[0;34m\u001b[0m\u001b[0m\n\u001b[0;32m---> 65\u001b[0;31m             \u001b[0;32mreturn\u001b[0m \u001b[0mfn\u001b[0m\u001b[0;34m(\u001b[0m\u001b[0;34m*\u001b[0m\u001b[0margs\u001b[0m\u001b[0;34m,\u001b[0m \u001b[0;34m**\u001b[0m\u001b[0mkwargs\u001b[0m\u001b[0;34m)\u001b[0m\u001b[0;34m\u001b[0m\u001b[0;34m\u001b[0m\u001b[0m\n\u001b[0m\u001b[1;32m     66\u001b[0m         \u001b[0;32mexcept\u001b[0m \u001b[0mException\u001b[0m \u001b[0;32mas\u001b[0m \u001b[0me\u001b[0m\u001b[0;34m:\u001b[0m\u001b[0;34m\u001b[0m\u001b[0;34m\u001b[0m\u001b[0m\n\u001b[1;32m     67\u001b[0m             \u001b[0mfiltered_tb\u001b[0m \u001b[0;34m=\u001b[0m \u001b[0m_process_traceback_frames\u001b[0m\u001b[0;34m(\u001b[0m\u001b[0me\u001b[0m\u001b[0;34m.\u001b[0m\u001b[0m__traceback__\u001b[0m\u001b[0;34m)\u001b[0m\u001b[0;34m\u001b[0m\u001b[0;34m\u001b[0m\u001b[0m\n",
            "\u001b[0;32m/usr/local/lib/python3.9/dist-packages/keras/engine/training.py\u001b[0m in \u001b[0;36mfit\u001b[0;34m(self, x, y, batch_size, epochs, verbose, callbacks, validation_split, validation_data, shuffle, class_weight, sample_weight, initial_epoch, steps_per_epoch, validation_steps, validation_batch_size, validation_freq, max_queue_size, workers, use_multiprocessing)\u001b[0m\n\u001b[1;32m   1648\u001b[0m                         ):\n\u001b[1;32m   1649\u001b[0m                             \u001b[0mcallbacks\u001b[0m\u001b[0;34m.\u001b[0m\u001b[0mon_train_batch_begin\u001b[0m\u001b[0;34m(\u001b[0m\u001b[0mstep\u001b[0m\u001b[0;34m)\u001b[0m\u001b[0;34m\u001b[0m\u001b[0;34m\u001b[0m\u001b[0m\n\u001b[0;32m-> 1650\u001b[0;31m                             \u001b[0mtmp_logs\u001b[0m \u001b[0;34m=\u001b[0m \u001b[0mself\u001b[0m\u001b[0;34m.\u001b[0m\u001b[0mtrain_function\u001b[0m\u001b[0;34m(\u001b[0m\u001b[0miterator\u001b[0m\u001b[0;34m)\u001b[0m\u001b[0;34m\u001b[0m\u001b[0;34m\u001b[0m\u001b[0m\n\u001b[0m\u001b[1;32m   1651\u001b[0m                             \u001b[0;32mif\u001b[0m \u001b[0mdata_handler\u001b[0m\u001b[0;34m.\u001b[0m\u001b[0mshould_sync\u001b[0m\u001b[0;34m:\u001b[0m\u001b[0;34m\u001b[0m\u001b[0;34m\u001b[0m\u001b[0m\n\u001b[1;32m   1652\u001b[0m                                 \u001b[0mcontext\u001b[0m\u001b[0;34m.\u001b[0m\u001b[0masync_wait\u001b[0m\u001b[0;34m(\u001b[0m\u001b[0;34m)\u001b[0m\u001b[0;34m\u001b[0m\u001b[0;34m\u001b[0m\u001b[0m\n",
            "\u001b[0;32m/usr/local/lib/python3.9/dist-packages/tensorflow/python/util/traceback_utils.py\u001b[0m in \u001b[0;36merror_handler\u001b[0;34m(*args, **kwargs)\u001b[0m\n\u001b[1;32m    148\u001b[0m     \u001b[0mfiltered_tb\u001b[0m \u001b[0;34m=\u001b[0m \u001b[0;32mNone\u001b[0m\u001b[0;34m\u001b[0m\u001b[0;34m\u001b[0m\u001b[0m\n\u001b[1;32m    149\u001b[0m     \u001b[0;32mtry\u001b[0m\u001b[0;34m:\u001b[0m\u001b[0;34m\u001b[0m\u001b[0;34m\u001b[0m\u001b[0m\n\u001b[0;32m--> 150\u001b[0;31m       \u001b[0;32mreturn\u001b[0m \u001b[0mfn\u001b[0m\u001b[0;34m(\u001b[0m\u001b[0;34m*\u001b[0m\u001b[0margs\u001b[0m\u001b[0;34m,\u001b[0m \u001b[0;34m**\u001b[0m\u001b[0mkwargs\u001b[0m\u001b[0;34m)\u001b[0m\u001b[0;34m\u001b[0m\u001b[0;34m\u001b[0m\u001b[0m\n\u001b[0m\u001b[1;32m    151\u001b[0m     \u001b[0;32mexcept\u001b[0m \u001b[0mException\u001b[0m \u001b[0;32mas\u001b[0m \u001b[0me\u001b[0m\u001b[0;34m:\u001b[0m\u001b[0;34m\u001b[0m\u001b[0;34m\u001b[0m\u001b[0m\n\u001b[1;32m    152\u001b[0m       \u001b[0mfiltered_tb\u001b[0m \u001b[0;34m=\u001b[0m \u001b[0m_process_traceback_frames\u001b[0m\u001b[0;34m(\u001b[0m\u001b[0me\u001b[0m\u001b[0;34m.\u001b[0m\u001b[0m__traceback__\u001b[0m\u001b[0;34m)\u001b[0m\u001b[0;34m\u001b[0m\u001b[0;34m\u001b[0m\u001b[0m\n",
            "\u001b[0;32m/usr/local/lib/python3.9/dist-packages/tensorflow/python/eager/polymorphic_function/polymorphic_function.py\u001b[0m in \u001b[0;36m__call__\u001b[0;34m(self, *args, **kwds)\u001b[0m\n\u001b[1;32m    878\u001b[0m \u001b[0;34m\u001b[0m\u001b[0m\n\u001b[1;32m    879\u001b[0m       \u001b[0;32mwith\u001b[0m \u001b[0mOptionalXlaContext\u001b[0m\u001b[0;34m(\u001b[0m\u001b[0mself\u001b[0m\u001b[0;34m.\u001b[0m\u001b[0m_jit_compile\u001b[0m\u001b[0;34m)\u001b[0m\u001b[0;34m:\u001b[0m\u001b[0;34m\u001b[0m\u001b[0;34m\u001b[0m\u001b[0m\n\u001b[0;32m--> 880\u001b[0;31m         \u001b[0mresult\u001b[0m \u001b[0;34m=\u001b[0m \u001b[0mself\u001b[0m\u001b[0;34m.\u001b[0m\u001b[0m_call\u001b[0m\u001b[0;34m(\u001b[0m\u001b[0;34m*\u001b[0m\u001b[0margs\u001b[0m\u001b[0;34m,\u001b[0m \u001b[0;34m**\u001b[0m\u001b[0mkwds\u001b[0m\u001b[0;34m)\u001b[0m\u001b[0;34m\u001b[0m\u001b[0;34m\u001b[0m\u001b[0m\n\u001b[0m\u001b[1;32m    881\u001b[0m \u001b[0;34m\u001b[0m\u001b[0m\n\u001b[1;32m    882\u001b[0m       \u001b[0mnew_tracing_count\u001b[0m \u001b[0;34m=\u001b[0m \u001b[0mself\u001b[0m\u001b[0;34m.\u001b[0m\u001b[0mexperimental_get_tracing_count\u001b[0m\u001b[0;34m(\u001b[0m\u001b[0;34m)\u001b[0m\u001b[0;34m\u001b[0m\u001b[0;34m\u001b[0m\u001b[0m\n",
            "\u001b[0;32m/usr/local/lib/python3.9/dist-packages/tensorflow/python/eager/polymorphic_function/polymorphic_function.py\u001b[0m in \u001b[0;36m_call\u001b[0;34m(self, *args, **kwds)\u001b[0m\n\u001b[1;32m    910\u001b[0m       \u001b[0;31m# In this case we have created variables on the first call, so we run the\u001b[0m\u001b[0;34m\u001b[0m\u001b[0;34m\u001b[0m\u001b[0m\n\u001b[1;32m    911\u001b[0m       \u001b[0;31m# defunned version which is guaranteed to never create variables.\u001b[0m\u001b[0;34m\u001b[0m\u001b[0;34m\u001b[0m\u001b[0m\n\u001b[0;32m--> 912\u001b[0;31m       \u001b[0;32mreturn\u001b[0m \u001b[0mself\u001b[0m\u001b[0;34m.\u001b[0m\u001b[0m_no_variable_creation_fn\u001b[0m\u001b[0;34m(\u001b[0m\u001b[0;34m*\u001b[0m\u001b[0margs\u001b[0m\u001b[0;34m,\u001b[0m \u001b[0;34m**\u001b[0m\u001b[0mkwds\u001b[0m\u001b[0;34m)\u001b[0m  \u001b[0;31m# pylint: disable=not-callable\u001b[0m\u001b[0;34m\u001b[0m\u001b[0;34m\u001b[0m\u001b[0m\n\u001b[0m\u001b[1;32m    913\u001b[0m     \u001b[0;32melif\u001b[0m \u001b[0mself\u001b[0m\u001b[0;34m.\u001b[0m\u001b[0m_variable_creation_fn\u001b[0m \u001b[0;32mis\u001b[0m \u001b[0;32mnot\u001b[0m \u001b[0;32mNone\u001b[0m\u001b[0;34m:\u001b[0m\u001b[0;34m\u001b[0m\u001b[0;34m\u001b[0m\u001b[0m\n\u001b[1;32m    914\u001b[0m       \u001b[0;31m# Release the lock early so that multiple threads can perform the call\u001b[0m\u001b[0;34m\u001b[0m\u001b[0;34m\u001b[0m\u001b[0m\n",
            "\u001b[0;32m/usr/local/lib/python3.9/dist-packages/tensorflow/python/eager/polymorphic_function/tracing_compiler.py\u001b[0m in \u001b[0;36m__call__\u001b[0;34m(self, *args, **kwargs)\u001b[0m\n\u001b[1;32m    131\u001b[0m     \u001b[0;32mwith\u001b[0m \u001b[0mself\u001b[0m\u001b[0;34m.\u001b[0m\u001b[0m_lock\u001b[0m\u001b[0;34m:\u001b[0m\u001b[0;34m\u001b[0m\u001b[0;34m\u001b[0m\u001b[0m\n\u001b[1;32m    132\u001b[0m       (concrete_function,\n\u001b[0;32m--> 133\u001b[0;31m        filtered_flat_args) = self._maybe_define_function(args, kwargs)\n\u001b[0m\u001b[1;32m    134\u001b[0m     return concrete_function._call_flat(\n\u001b[1;32m    135\u001b[0m         filtered_flat_args, captured_inputs=concrete_function.captured_inputs)  # pylint: disable=protected-access\n",
            "\u001b[0;32m/usr/local/lib/python3.9/dist-packages/tensorflow/python/eager/polymorphic_function/tracing_compiler.py\u001b[0m in \u001b[0;36m_maybe_define_function\u001b[0;34m(self, args, kwargs)\u001b[0m\n\u001b[1;32m    334\u001b[0m     \u001b[0;31m# A new cache key will be built later when saving ConcreteFunction because\u001b[0m\u001b[0;34m\u001b[0m\u001b[0;34m\u001b[0m\u001b[0m\n\u001b[1;32m    335\u001b[0m     \u001b[0;31m# only active captures should be saved.\u001b[0m\u001b[0;34m\u001b[0m\u001b[0;34m\u001b[0m\u001b[0m\n\u001b[0;32m--> 336\u001b[0;31m     lookup_func_key, _ = function_context.make_cache_key((args, kwargs),\n\u001b[0m\u001b[1;32m    337\u001b[0m                                                          captures)\n\u001b[1;32m    338\u001b[0m     \u001b[0mconcrete_function\u001b[0m \u001b[0;34m=\u001b[0m \u001b[0mself\u001b[0m\u001b[0;34m.\u001b[0m\u001b[0m_function_cache\u001b[0m\u001b[0;34m.\u001b[0m\u001b[0mlookup\u001b[0m\u001b[0;34m(\u001b[0m\u001b[0mlookup_func_key\u001b[0m\u001b[0;34m,\u001b[0m \u001b[0;32mTrue\u001b[0m\u001b[0;34m)\u001b[0m\u001b[0;34m\u001b[0m\u001b[0;34m\u001b[0m\u001b[0m\n",
            "\u001b[0;32m/usr/local/lib/python3.9/dist-packages/tensorflow/python/eager/polymorphic_function/function_context.py\u001b[0m in \u001b[0;36mmake_cache_key\u001b[0;34m(args, captures)\u001b[0m\n\u001b[1;32m    131\u001b[0m     \u001b[0mcaptures\u001b[0m \u001b[0;34m=\u001b[0m \u001b[0mdict\u001b[0m\u001b[0;34m(\u001b[0m\u001b[0;34m)\u001b[0m\u001b[0;34m\u001b[0m\u001b[0;34m\u001b[0m\u001b[0m\n\u001b[1;32m    132\u001b[0m   \u001b[0msignature_context\u001b[0m \u001b[0;34m=\u001b[0m \u001b[0mtrace_type\u001b[0m\u001b[0;34m.\u001b[0m\u001b[0mInternalTracingContext\u001b[0m\u001b[0;34m(\u001b[0m\u001b[0;34m)\u001b[0m\u001b[0;34m\u001b[0m\u001b[0;34m\u001b[0m\u001b[0m\n\u001b[0;32m--> 133\u001b[0;31m   args_signature = trace_type.from_value(\n\u001b[0m\u001b[1;32m    134\u001b[0m       args, signature_context)\n\u001b[1;32m    135\u001b[0m   captures_dict_tracetype = trace_type.from_value(\n",
            "\u001b[0;32m/usr/local/lib/python3.9/dist-packages/tensorflow/core/function/trace_type/trace_type_builder.py\u001b[0m in \u001b[0;36mfrom_value\u001b[0;34m(value, context)\u001b[0m\n\u001b[1;32m    127\u001b[0m           named_tuple_type, tuple(from_value(c, context) for c in value))\n\u001b[1;32m    128\u001b[0m     \u001b[0;32melse\u001b[0m\u001b[0;34m:\u001b[0m\u001b[0;34m\u001b[0m\u001b[0;34m\u001b[0m\u001b[0m\n\u001b[0;32m--> 129\u001b[0;31m       \u001b[0;32mreturn\u001b[0m \u001b[0mdefault_types\u001b[0m\u001b[0;34m.\u001b[0m\u001b[0mTuple\u001b[0m\u001b[0;34m(\u001b[0m\u001b[0;34m*\u001b[0m\u001b[0;34m(\u001b[0m\u001b[0mfrom_value\u001b[0m\u001b[0;34m(\u001b[0m\u001b[0mc\u001b[0m\u001b[0;34m,\u001b[0m \u001b[0mcontext\u001b[0m\u001b[0;34m)\u001b[0m \u001b[0;32mfor\u001b[0m \u001b[0mc\u001b[0m \u001b[0;32min\u001b[0m \u001b[0mvalue\u001b[0m\u001b[0;34m)\u001b[0m\u001b[0;34m)\u001b[0m\u001b[0;34m\u001b[0m\u001b[0;34m\u001b[0m\u001b[0m\n\u001b[0m\u001b[1;32m    130\u001b[0m \u001b[0;34m\u001b[0m\u001b[0m\n\u001b[1;32m    131\u001b[0m   \u001b[0;32mif\u001b[0m \u001b[0misinstance\u001b[0m\u001b[0;34m(\u001b[0m\u001b[0mvalue\u001b[0m\u001b[0;34m,\u001b[0m \u001b[0mcollections\u001b[0m\u001b[0;34m.\u001b[0m\u001b[0mabc\u001b[0m\u001b[0;34m.\u001b[0m\u001b[0mMapping\u001b[0m\u001b[0;34m)\u001b[0m\u001b[0;34m:\u001b[0m\u001b[0;34m\u001b[0m\u001b[0;34m\u001b[0m\u001b[0m\n",
            "\u001b[0;32m/usr/local/lib/python3.9/dist-packages/tensorflow/core/function/trace_type/trace_type_builder.py\u001b[0m in \u001b[0;36m<genexpr>\u001b[0;34m(.0)\u001b[0m\n\u001b[1;32m    127\u001b[0m           named_tuple_type, tuple(from_value(c, context) for c in value))\n\u001b[1;32m    128\u001b[0m     \u001b[0;32melse\u001b[0m\u001b[0;34m:\u001b[0m\u001b[0;34m\u001b[0m\u001b[0;34m\u001b[0m\u001b[0m\n\u001b[0;32m--> 129\u001b[0;31m       \u001b[0;32mreturn\u001b[0m \u001b[0mdefault_types\u001b[0m\u001b[0;34m.\u001b[0m\u001b[0mTuple\u001b[0m\u001b[0;34m(\u001b[0m\u001b[0;34m*\u001b[0m\u001b[0;34m(\u001b[0m\u001b[0mfrom_value\u001b[0m\u001b[0;34m(\u001b[0m\u001b[0mc\u001b[0m\u001b[0;34m,\u001b[0m \u001b[0mcontext\u001b[0m\u001b[0;34m)\u001b[0m \u001b[0;32mfor\u001b[0m \u001b[0mc\u001b[0m \u001b[0;32min\u001b[0m \u001b[0mvalue\u001b[0m\u001b[0;34m)\u001b[0m\u001b[0;34m)\u001b[0m\u001b[0;34m\u001b[0m\u001b[0;34m\u001b[0m\u001b[0m\n\u001b[0m\u001b[1;32m    130\u001b[0m \u001b[0;34m\u001b[0m\u001b[0m\n\u001b[1;32m    131\u001b[0m   \u001b[0;32mif\u001b[0m \u001b[0misinstance\u001b[0m\u001b[0;34m(\u001b[0m\u001b[0mvalue\u001b[0m\u001b[0;34m,\u001b[0m \u001b[0mcollections\u001b[0m\u001b[0;34m.\u001b[0m\u001b[0mabc\u001b[0m\u001b[0;34m.\u001b[0m\u001b[0mMapping\u001b[0m\u001b[0;34m)\u001b[0m\u001b[0;34m:\u001b[0m\u001b[0;34m\u001b[0m\u001b[0;34m\u001b[0m\u001b[0m\n",
            "\u001b[0;32m/usr/local/lib/python3.9/dist-packages/tensorflow/core/function/trace_type/trace_type_builder.py\u001b[0m in \u001b[0;36mfrom_value\u001b[0;34m(value, context)\u001b[0m\n\u001b[1;32m    112\u001b[0m   \u001b[0;32mif\u001b[0m \u001b[0mcontext\u001b[0m\u001b[0;34m.\u001b[0m\u001b[0mis_legacy_signature\u001b[0m \u001b[0;32mand\u001b[0m \u001b[0misinstance\u001b[0m\u001b[0;34m(\u001b[0m\u001b[0mvalue\u001b[0m\u001b[0;34m,\u001b[0m \u001b[0mtrace\u001b[0m\u001b[0;34m.\u001b[0m\u001b[0mTraceType\u001b[0m\u001b[0;34m)\u001b[0m\u001b[0;34m:\u001b[0m\u001b[0;34m\u001b[0m\u001b[0;34m\u001b[0m\u001b[0m\n\u001b[1;32m    113\u001b[0m     \u001b[0;32mreturn\u001b[0m \u001b[0mvalue\u001b[0m\u001b[0;34m\u001b[0m\u001b[0;34m\u001b[0m\u001b[0m\n\u001b[0;32m--> 114\u001b[0;31m   \u001b[0;32melif\u001b[0m \u001b[0misinstance\u001b[0m\u001b[0;34m(\u001b[0m\u001b[0mvalue\u001b[0m\u001b[0;34m,\u001b[0m \u001b[0mtrace\u001b[0m\u001b[0;34m.\u001b[0m\u001b[0mSupportsTracingProtocol\u001b[0m\u001b[0;34m)\u001b[0m\u001b[0;34m:\u001b[0m\u001b[0;34m\u001b[0m\u001b[0;34m\u001b[0m\u001b[0m\n\u001b[0m\u001b[1;32m    115\u001b[0m     \u001b[0;32mreturn\u001b[0m \u001b[0mvalue\u001b[0m\u001b[0;34m.\u001b[0m\u001b[0m__tf_tracing_type__\u001b[0m\u001b[0;34m(\u001b[0m\u001b[0mcontext\u001b[0m\u001b[0;34m)\u001b[0m\u001b[0;34m\u001b[0m\u001b[0;34m\u001b[0m\u001b[0m\n\u001b[1;32m    116\u001b[0m \u001b[0;34m\u001b[0m\u001b[0m\n",
            "\u001b[0;32m/usr/lib/python3.9/typing.py\u001b[0m in \u001b[0;36m__instancecheck__\u001b[0;34m(cls, instance)\u001b[0m\n\u001b[1;32m   1144\u001b[0m         if ((not getattr(cls, '_is_protocol', False) or\n\u001b[1;32m   1145\u001b[0m                 _is_callable_members_only(cls)) and\n\u001b[0;32m-> 1146\u001b[0;31m                 issubclass(instance.__class__, cls)):\n\u001b[0m\u001b[1;32m   1147\u001b[0m             \u001b[0;32mreturn\u001b[0m \u001b[0;32mTrue\u001b[0m\u001b[0;34m\u001b[0m\u001b[0;34m\u001b[0m\u001b[0m\n\u001b[1;32m   1148\u001b[0m         \u001b[0;32mif\u001b[0m \u001b[0mcls\u001b[0m\u001b[0;34m.\u001b[0m\u001b[0m_is_protocol\u001b[0m\u001b[0;34m:\u001b[0m\u001b[0;34m\u001b[0m\u001b[0;34m\u001b[0m\u001b[0m\n",
            "\u001b[0;32m/usr/lib/python3.9/abc.py\u001b[0m in \u001b[0;36m__subclasscheck__\u001b[0;34m(cls, subclass)\u001b[0m\n\u001b[1;32m    121\u001b[0m         \u001b[0;32mdef\u001b[0m \u001b[0m__subclasscheck__\u001b[0m\u001b[0;34m(\u001b[0m\u001b[0mcls\u001b[0m\u001b[0;34m,\u001b[0m \u001b[0msubclass\u001b[0m\u001b[0;34m)\u001b[0m\u001b[0;34m:\u001b[0m\u001b[0;34m\u001b[0m\u001b[0;34m\u001b[0m\u001b[0m\n\u001b[1;32m    122\u001b[0m             \u001b[0;34m\"\"\"Override for issubclass(subclass, cls).\"\"\"\u001b[0m\u001b[0;34m\u001b[0m\u001b[0;34m\u001b[0m\u001b[0m\n\u001b[0;32m--> 123\u001b[0;31m             \u001b[0;32mreturn\u001b[0m \u001b[0m_abc_subclasscheck\u001b[0m\u001b[0;34m(\u001b[0m\u001b[0mcls\u001b[0m\u001b[0;34m,\u001b[0m \u001b[0msubclass\u001b[0m\u001b[0;34m)\u001b[0m\u001b[0;34m\u001b[0m\u001b[0;34m\u001b[0m\u001b[0m\n\u001b[0m\u001b[1;32m    124\u001b[0m \u001b[0;34m\u001b[0m\u001b[0m\n\u001b[1;32m    125\u001b[0m         \u001b[0;32mdef\u001b[0m \u001b[0m_dump_registry\u001b[0m\u001b[0;34m(\u001b[0m\u001b[0mcls\u001b[0m\u001b[0;34m,\u001b[0m \u001b[0mfile\u001b[0m\u001b[0;34m=\u001b[0m\u001b[0;32mNone\u001b[0m\u001b[0;34m)\u001b[0m\u001b[0;34m:\u001b[0m\u001b[0;34m\u001b[0m\u001b[0;34m\u001b[0m\u001b[0m\n",
            "\u001b[0;31mKeyboardInterrupt\u001b[0m: "
          ]
        }
      ]
    },
    {
      "cell_type": "code",
      "source": [],
      "metadata": {
        "id": "qtvgrm_zXxOe"
      },
      "execution_count": null,
      "outputs": []
    }
  ]
}